{
 "cells": [
  {
   "cell_type": "markdown",
   "metadata": {},
   "source": [
    "# Text Classification in Python using Sklearn and Random Forest Classifier"
   ]
  },
  {
   "cell_type": "code",
   "execution_count": 45,
   "metadata": {},
   "outputs": [
    {
     "data": {
      "text/html": [
       "<div>\n",
       "<style scoped>\n",
       "    .dataframe tbody tr th:only-of-type {\n",
       "        vertical-align: middle;\n",
       "    }\n",
       "\n",
       "    .dataframe tbody tr th {\n",
       "        vertical-align: top;\n",
       "    }\n",
       "\n",
       "    .dataframe thead th {\n",
       "        text-align: right;\n",
       "    }\n",
       "</style>\n",
       "<table border=\"1\" class=\"dataframe\">\n",
       "  <thead>\n",
       "    <tr style=\"text-align: right;\">\n",
       "      <th></th>\n",
       "      <th>Classification</th>\n",
       "      <th>tweets</th>\n",
       "    </tr>\n",
       "  </thead>\n",
       "  <tbody>\n",
       "    <tr>\n",
       "      <th>0</th>\n",
       "      <td>Class_B</td>\n",
       "      <td>Niggers are stupid and violent.</td>\n",
       "    </tr>\n",
       "    <tr>\n",
       "      <th>1</th>\n",
       "      <td>Class_A</td>\n",
       "      <td>Modern history classes instill a subconscious ...</td>\n",
       "    </tr>\n",
       "    <tr>\n",
       "      <th>2</th>\n",
       "      <td>Class_A</td>\n",
       "      <td>niggers come on this app and show how tragic t...</td>\n",
       "    </tr>\n",
       "    <tr>\n",
       "      <th>3</th>\n",
       "      <td>Class_A</td>\n",
       "      <td>nobody hypes me more than boyfriend ,right aft...</td>\n",
       "    </tr>\n",
       "    <tr>\n",
       "      <th>4</th>\n",
       "      <td>Class_B</td>\n",
       "      <td>You have vandalized my heart, raped my soul, a...</td>\n",
       "    </tr>\n",
       "  </tbody>\n",
       "</table>\n",
       "</div>"
      ],
      "text/plain": [
       "  Classification                                             tweets\n",
       "0        Class_B                    Niggers are stupid and violent.\n",
       "1        Class_A  Modern history classes instill a subconscious ...\n",
       "2        Class_A  niggers come on this app and show how tragic t...\n",
       "3        Class_A  nobody hypes me more than boyfriend ,right aft...\n",
       "4        Class_B  You have vandalized my heart, raped my soul, a..."
      ]
     },
     "execution_count": 45,
     "metadata": {},
     "output_type": "execute_result"
    }
   ],
   "source": [
    "import pandas as pd\n",
    "df = pd.read_csv('train.csv')\n",
    "df.head()"
   ]
  },
  {
   "cell_type": "code",
   "execution_count": 46,
   "metadata": {},
   "outputs": [],
   "source": [
    "import numpy as np\n",
    "from sklearn.feature_extraction.text import CountVectorizer\n",
    "from sklearn.ensemble import RandomForestClassifier\n",
    "import pandas as pd"
   ]
  },
  {
   "cell_type": "code",
   "execution_count": 47,
   "metadata": {},
   "outputs": [
    {
     "data": {
      "image/png": "[encoded data removed]",
      "text/plain": [
       "<Figure size 576x432 with 1 Axes>"
      ]
     },
     "metadata": {
      "needs_background": "light"
     },
     "output_type": "display_data"
    }
   ],
   "source": [
    "import matplotlib.pyplot as plt\n",
    "fig = plt.figure(figsize=(8,6))\n",
    "df.groupby('Classification').tweets.count().plot.bar(ylim=0)\n",
    "plt.show()"
   ]
  },
  {
   "cell_type": "code",
   "execution_count": 50,
   "metadata": {},
   "outputs": [],
   "source": [
    "import csv\n",
    "import numpy as np\n",
    "trainX=[]\n",
    "with open('train.csv') as csvfile:\n",
    "    reader = csv.DictReader(csvfile)\n",
    "    for row in reader:\n",
    "        trainX.append((row['tweets']))"
   ]
  },
  {
   "cell_type": "code",
   "execution_count": 48,
   "metadata": {},
   "outputs": [
    {
     "name": "stdout",
     "output_type": "stream",
     "text": [
      "108\n",
      "1\n"
     ]
    }
   ],
   "source": [
    "trainY=[]\n",
    "with open('train.csv') as csvfile:\n",
    "    reader = csv.DictReader(csvfile)\n",
    "    for row in reader:\n",
    "        for j in df['Classification']:\n",
    "            if j=='Class_A':\n",
    "                val=0\n",
    "                trainY.append(val)\n",
    "            else:\n",
    "                val=1\n",
    "                trainY.append(val)\n",
    "del trainY[len(df):]\n",
    "print(len(trainY))\n",
    "print(trainY[0])"
   ]
  },
  {
   "cell_type": "code",
   "execution_count": 60,
   "metadata": {},
   "outputs": [
    {
     "name": "stdout",
     "output_type": "stream",
     "text": [
      "Class_B\n",
      "Class_A\n",
      "Class_A\n",
      "Class_A\n",
      "Class_B\n",
      "Class_B\n",
      "Class_B\n",
      "Class_B\n",
      "Class_A\n",
      "Class_B\n",
      "Class_A\n",
      "Class_B\n",
      "Class_B\n",
      "Class_A\n",
      "Class_A\n",
      "Class_A\n",
      "Class_A\n",
      "Class_B\n",
      "Class_A\n",
      "Class_A\n",
      "Class_B\n",
      "Class_B\n",
      "Class_A\n",
      "Class_A\n",
      "Class_A\n",
      "Class_A\n",
      "Class_A\n",
      "Class_A\n",
      "Class_A\n",
      "Class_A\n"
     ]
    }
   ],
   "source": [
    "import pandas as pd\n",
    "y_pred=[]\n",
    "vectorizer = CountVectorizer(min_df=1)\n",
    "X = vectorizer.fit_transform(trainX)\n",
    "clf = RandomForestClassifier()\n",
    "clf.fit(X, trainY)\n",
    "df2=pd.read_csv('test_tweets.csv')\n",
    "for k in df2['tweets']:\n",
    "    k=int(clf.predict(vectorizer.transform([k])))\n",
    "    if k==0:\n",
    "        clAss='Class_A'\n",
    "        print(clAss)\n",
    "        y_pred.append(clAss)\n",
    "    else:\n",
    "        clAss='Class_B'\n",
    "        print(clAss)\n",
    "        y_pred.append(clAss)"
   ]
  },
  {
   "cell_type": "code",
   "execution_count": 61,
   "metadata": {},
   "outputs": [
    {
     "name": "stdout",
     "output_type": "stream",
     "text": [
      "\n",
      "Clasification report:\n",
      "               precision    recall  f1-score   support\n",
      "\n",
      "     Class_A       0.95      1.00      0.97        18\n",
      "     Class_B       1.00      0.92      0.96        12\n",
      "\n",
      "    accuracy                           0.97        30\n",
      "   macro avg       0.97      0.96      0.96        30\n",
      "weighted avg       0.97      0.97      0.97        30\n",
      "\n",
      "\n",
      "Confussion matrix:\n",
      " [[18  0]\n",
      " [ 1 11]]\n"
     ]
    }
   ],
   "source": [
    "import numpy as np\n",
    "from sklearn.metrics import classification_report\n",
    "from sklearn.metrics import confusion_matrix\n",
    "print ('\\nClasification report:\\n', classification_report(df2['TRUE'],y_pred))\n",
    "print ('\\nConfussion matrix:\\n',confusion_matrix(df2['TRUE'],y_pred))"
   ]
  }
 ],
 "metadata": {
  "kernelspec": {
   "display_name": "Python 3",
   "language": "python",
   "name": "python3"
  },
  "language_info": {
   "codemirror_mode": {
    "name": "ipython",
    "version": 3
   },
   "file_extension": ".py",
   "mimetype": "text/x-python",
   "name": "python",
   "nbconvert_exporter": "python",
   "pygments_lexer": "ipython3",
   "version": "3.7.4"
  }
 },
 "nbformat": 4,
 "nbformat_minor": 2
}
